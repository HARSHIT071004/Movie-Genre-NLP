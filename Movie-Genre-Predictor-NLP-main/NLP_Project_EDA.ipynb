{
 "cells": [
  {
   "cell_type": "markdown",
   "id": "5203e792",
   "metadata": {},
   "source": [
    "### Data Exploration"
   ]
  },
  {
   "cell_type": "markdown",
   "id": "0b4c1c30",
   "metadata": {},
   "source": [
    "### Importing the required dependencies"
   ]
  },
  {
   "cell_type": "code",
   "execution_count": 34,
   "id": "dbfce7e7",
   "metadata": {},
   "outputs": [],
   "source": [
    "import pandas as pd\n",
    "import numpy as np\n",
    "import matplotlib.pyplot as plt"
   ]
  },
  {
   "cell_type": "code",
   "execution_count": 35,
   "id": "0a516e2a",
   "metadata": {},
   "outputs": [],
   "source": [
    "# Load the dataset into a DataFrame\n",
    "movies_df = pd.read_csv('movie_plots.csv')"
   ]
  },
  {
   "cell_type": "code",
   "execution_count": 36,
   "id": "87c54344",
   "metadata": {},
   "outputs": [
    {
     "data": {
      "text/html": [
       "<div>\n",
       "<style scoped>\n",
       "    .dataframe tbody tr th:only-of-type {\n",
       "        vertical-align: middle;\n",
       "    }\n",
       "\n",
       "    .dataframe tbody tr th {\n",
       "        vertical-align: top;\n",
       "    }\n",
       "\n",
       "    .dataframe thead th {\n",
       "        text-align: right;\n",
       "    }\n",
       "</style>\n",
       "<table border=\"1\" class=\"dataframe\">\n",
       "  <thead>\n",
       "    <tr style=\"text-align: right;\">\n",
       "      <th></th>\n",
       "      <th>Release Year</th>\n",
       "      <th>Title</th>\n",
       "      <th>Origin/Ethnicity</th>\n",
       "      <th>Director</th>\n",
       "      <th>Cast</th>\n",
       "      <th>Genre</th>\n",
       "      <th>Wiki Page</th>\n",
       "      <th>Plot</th>\n",
       "    </tr>\n",
       "  </thead>\n",
       "  <tbody>\n",
       "    <tr>\n",
       "      <th>0</th>\n",
       "      <td>1901</td>\n",
       "      <td>Kansas Saloon Smashers</td>\n",
       "      <td>American</td>\n",
       "      <td>Unknown</td>\n",
       "      <td>NaN</td>\n",
       "      <td>unknown</td>\n",
       "      <td>https://en.wikipedia.org/wiki/Kansas_Saloon_Sm...</td>\n",
       "      <td>A bartender is working at a saloon, serving dr...</td>\n",
       "    </tr>\n",
       "    <tr>\n",
       "      <th>1</th>\n",
       "      <td>1901</td>\n",
       "      <td>Love by the Light of the Moon</td>\n",
       "      <td>American</td>\n",
       "      <td>Unknown</td>\n",
       "      <td>NaN</td>\n",
       "      <td>unknown</td>\n",
       "      <td>https://en.wikipedia.org/wiki/Love_by_the_Ligh...</td>\n",
       "      <td>The moon, painted with a smiling face hangs ov...</td>\n",
       "    </tr>\n",
       "    <tr>\n",
       "      <th>2</th>\n",
       "      <td>1901</td>\n",
       "      <td>The Martyred Presidents</td>\n",
       "      <td>American</td>\n",
       "      <td>Unknown</td>\n",
       "      <td>NaN</td>\n",
       "      <td>unknown</td>\n",
       "      <td>https://en.wikipedia.org/wiki/The_Martyred_Pre...</td>\n",
       "      <td>The film, just over a minute long, is composed...</td>\n",
       "    </tr>\n",
       "    <tr>\n",
       "      <th>3</th>\n",
       "      <td>1901</td>\n",
       "      <td>Terrible Teddy, the Grizzly King</td>\n",
       "      <td>American</td>\n",
       "      <td>Unknown</td>\n",
       "      <td>NaN</td>\n",
       "      <td>unknown</td>\n",
       "      <td>https://en.wikipedia.org/wiki/Terrible_Teddy,_...</td>\n",
       "      <td>Lasting just 61 seconds and consisting of two ...</td>\n",
       "    </tr>\n",
       "    <tr>\n",
       "      <th>4</th>\n",
       "      <td>1902</td>\n",
       "      <td>Jack and the Beanstalk</td>\n",
       "      <td>American</td>\n",
       "      <td>George S. Fleming, Edwin S. Porter</td>\n",
       "      <td>NaN</td>\n",
       "      <td>unknown</td>\n",
       "      <td>https://en.wikipedia.org/wiki/Jack_and_the_Bea...</td>\n",
       "      <td>The earliest known adaptation of the classic f...</td>\n",
       "    </tr>\n",
       "  </tbody>\n",
       "</table>\n",
       "</div>"
      ],
      "text/plain": [
       "   Release Year                             Title Origin/Ethnicity  \\\n",
       "0          1901            Kansas Saloon Smashers         American   \n",
       "1          1901     Love by the Light of the Moon         American   \n",
       "2          1901           The Martyred Presidents         American   \n",
       "3          1901  Terrible Teddy, the Grizzly King         American   \n",
       "4          1902            Jack and the Beanstalk         American   \n",
       "\n",
       "                             Director Cast    Genre  \\\n",
       "0                             Unknown  NaN  unknown   \n",
       "1                             Unknown  NaN  unknown   \n",
       "2                             Unknown  NaN  unknown   \n",
       "3                             Unknown  NaN  unknown   \n",
       "4  George S. Fleming, Edwin S. Porter  NaN  unknown   \n",
       "\n",
       "                                           Wiki Page  \\\n",
       "0  https://en.wikipedia.org/wiki/Kansas_Saloon_Sm...   \n",
       "1  https://en.wikipedia.org/wiki/Love_by_the_Ligh...   \n",
       "2  https://en.wikipedia.org/wiki/The_Martyred_Pre...   \n",
       "3  https://en.wikipedia.org/wiki/Terrible_Teddy,_...   \n",
       "4  https://en.wikipedia.org/wiki/Jack_and_the_Bea...   \n",
       "\n",
       "                                                Plot  \n",
       "0  A bartender is working at a saloon, serving dr...  \n",
       "1  The moon, painted with a smiling face hangs ov...  \n",
       "2  The film, just over a minute long, is composed...  \n",
       "3  Lasting just 61 seconds and consisting of two ...  \n",
       "4  The earliest known adaptation of the classic f...  "
      ]
     },
     "execution_count": 36,
     "metadata": {},
     "output_type": "execute_result"
    }
   ],
   "source": [
    "# To display first 5 rows and to have a quick overview of the data structure, column names, and sample data.\n",
    "movies_df.head()"
   ]
  },
  {
   "cell_type": "code",
   "execution_count": 37,
   "id": "885216d1",
   "metadata": {},
   "outputs": [
    {
     "data": {
      "text/plain": [
       "(34886, 8)"
      ]
     },
     "execution_count": 37,
     "metadata": {},
     "output_type": "execute_result"
    }
   ],
   "source": [
    "# To display the number of rows and columns of the dataset\n",
    "movies_df.shape"
   ]
  },
  {
   "cell_type": "code",
   "execution_count": 38,
   "id": "0060650e",
   "metadata": {},
   "outputs": [
    {
     "name": "stdout",
     "output_type": "stream",
     "text": [
      "<class 'pandas.core.frame.DataFrame'>\n",
      "RangeIndex: 34886 entries, 0 to 34885\n",
      "Data columns (total 8 columns):\n",
      " #   Column            Non-Null Count  Dtype \n",
      "---  ------            --------------  ----- \n",
      " 0   Release Year      34886 non-null  int64 \n",
      " 1   Title             34886 non-null  object\n",
      " 2   Origin/Ethnicity  34886 non-null  object\n",
      " 3   Director          34886 non-null  object\n",
      " 4   Cast              33464 non-null  object\n",
      " 5   Genre             34886 non-null  object\n",
      " 6   Wiki Page         34886 non-null  object\n",
      " 7   Plot              34886 non-null  object\n",
      "dtypes: int64(1), object(7)\n",
      "memory usage: 2.1+ MB\n"
     ]
    }
   ],
   "source": [
    "# To show the Metadata about the dataframe and to identify the columns with missing and incorrect datatypes \n",
    "movies_df.info()"
   ]
  },
  {
   "cell_type": "code",
   "execution_count": 39,
   "id": "348a97b2",
   "metadata": {},
   "outputs": [
    {
     "data": {
      "text/plain": [
       "Release Year           0\n",
       "Title                  0\n",
       "Origin/Ethnicity       0\n",
       "Director               0\n",
       "Cast                1422\n",
       "Genre                  0\n",
       "Wiki Page              0\n",
       "Plot                   0\n",
       "dtype: int64"
      ]
     },
     "execution_count": 39,
     "metadata": {},
     "output_type": "execute_result"
    }
   ],
   "source": [
    "# To count the missing values in each column to clean them\n",
    "movies_df.isnull().sum()"
   ]
  },
  {
   "cell_type": "code",
   "execution_count": 40,
   "id": "397d16cf",
   "metadata": {},
   "outputs": [
    {
     "data": {
      "text/html": [
       "<div>\n",
       "<style scoped>\n",
       "    .dataframe tbody tr th:only-of-type {\n",
       "        vertical-align: middle;\n",
       "    }\n",
       "\n",
       "    .dataframe tbody tr th {\n",
       "        vertical-align: top;\n",
       "    }\n",
       "\n",
       "    .dataframe thead th {\n",
       "        text-align: right;\n",
       "    }\n",
       "</style>\n",
       "<table border=\"1\" class=\"dataframe\">\n",
       "  <thead>\n",
       "    <tr style=\"text-align: right;\">\n",
       "      <th></th>\n",
       "      <th>Release Year</th>\n",
       "      <th>Title</th>\n",
       "      <th>Origin/Ethnicity</th>\n",
       "      <th>Director</th>\n",
       "      <th>Cast</th>\n",
       "      <th>Genre</th>\n",
       "      <th>Wiki Page</th>\n",
       "      <th>Plot</th>\n",
       "    </tr>\n",
       "  </thead>\n",
       "  <tbody>\n",
       "    <tr>\n",
       "      <th>count</th>\n",
       "      <td>34886.000000</td>\n",
       "      <td>34886</td>\n",
       "      <td>34886</td>\n",
       "      <td>34886</td>\n",
       "      <td>33464</td>\n",
       "      <td>34886</td>\n",
       "      <td>34886</td>\n",
       "      <td>34886</td>\n",
       "    </tr>\n",
       "    <tr>\n",
       "      <th>unique</th>\n",
       "      <td>NaN</td>\n",
       "      <td>32432</td>\n",
       "      <td>24</td>\n",
       "      <td>12593</td>\n",
       "      <td>32182</td>\n",
       "      <td>2265</td>\n",
       "      <td>34070</td>\n",
       "      <td>33869</td>\n",
       "    </tr>\n",
       "    <tr>\n",
       "      <th>top</th>\n",
       "      <td>NaN</td>\n",
       "      <td>The Three Musketeers</td>\n",
       "      <td>American</td>\n",
       "      <td>Unknown</td>\n",
       "      <td>Tom and Jerry</td>\n",
       "      <td>unknown</td>\n",
       "      <td>https://en.wikipedia.org/wiki/Himitsu_Sentai_G...</td>\n",
       "      <td>(マッスル人参争奪！超人大戦争, Massuru Ninjin Soudatsu! Chou...</td>\n",
       "    </tr>\n",
       "    <tr>\n",
       "      <th>freq</th>\n",
       "      <td>NaN</td>\n",
       "      <td>8</td>\n",
       "      <td>17377</td>\n",
       "      <td>1124</td>\n",
       "      <td>80</td>\n",
       "      <td>6083</td>\n",
       "      <td>5</td>\n",
       "      <td>6</td>\n",
       "    </tr>\n",
       "    <tr>\n",
       "      <th>mean</th>\n",
       "      <td>1981.314252</td>\n",
       "      <td>NaN</td>\n",
       "      <td>NaN</td>\n",
       "      <td>NaN</td>\n",
       "      <td>NaN</td>\n",
       "      <td>NaN</td>\n",
       "      <td>NaN</td>\n",
       "      <td>NaN</td>\n",
       "    </tr>\n",
       "    <tr>\n",
       "      <th>std</th>\n",
       "      <td>27.815174</td>\n",
       "      <td>NaN</td>\n",
       "      <td>NaN</td>\n",
       "      <td>NaN</td>\n",
       "      <td>NaN</td>\n",
       "      <td>NaN</td>\n",
       "      <td>NaN</td>\n",
       "      <td>NaN</td>\n",
       "    </tr>\n",
       "    <tr>\n",
       "      <th>min</th>\n",
       "      <td>1901.000000</td>\n",
       "      <td>NaN</td>\n",
       "      <td>NaN</td>\n",
       "      <td>NaN</td>\n",
       "      <td>NaN</td>\n",
       "      <td>NaN</td>\n",
       "      <td>NaN</td>\n",
       "      <td>NaN</td>\n",
       "    </tr>\n",
       "    <tr>\n",
       "      <th>25%</th>\n",
       "      <td>1957.000000</td>\n",
       "      <td>NaN</td>\n",
       "      <td>NaN</td>\n",
       "      <td>NaN</td>\n",
       "      <td>NaN</td>\n",
       "      <td>NaN</td>\n",
       "      <td>NaN</td>\n",
       "      <td>NaN</td>\n",
       "    </tr>\n",
       "    <tr>\n",
       "      <th>50%</th>\n",
       "      <td>1988.000000</td>\n",
       "      <td>NaN</td>\n",
       "      <td>NaN</td>\n",
       "      <td>NaN</td>\n",
       "      <td>NaN</td>\n",
       "      <td>NaN</td>\n",
       "      <td>NaN</td>\n",
       "      <td>NaN</td>\n",
       "    </tr>\n",
       "    <tr>\n",
       "      <th>75%</th>\n",
       "      <td>2007.000000</td>\n",
       "      <td>NaN</td>\n",
       "      <td>NaN</td>\n",
       "      <td>NaN</td>\n",
       "      <td>NaN</td>\n",
       "      <td>NaN</td>\n",
       "      <td>NaN</td>\n",
       "      <td>NaN</td>\n",
       "    </tr>\n",
       "    <tr>\n",
       "      <th>max</th>\n",
       "      <td>2017.000000</td>\n",
       "      <td>NaN</td>\n",
       "      <td>NaN</td>\n",
       "      <td>NaN</td>\n",
       "      <td>NaN</td>\n",
       "      <td>NaN</td>\n",
       "      <td>NaN</td>\n",
       "      <td>NaN</td>\n",
       "    </tr>\n",
       "  </tbody>\n",
       "</table>\n",
       "</div>"
      ],
      "text/plain": [
       "        Release Year                 Title Origin/Ethnicity Director  \\\n",
       "count   34886.000000                 34886            34886    34886   \n",
       "unique           NaN                 32432               24    12593   \n",
       "top              NaN  The Three Musketeers         American  Unknown   \n",
       "freq             NaN                     8            17377     1124   \n",
       "mean     1981.314252                   NaN              NaN      NaN   \n",
       "std        27.815174                   NaN              NaN      NaN   \n",
       "min      1901.000000                   NaN              NaN      NaN   \n",
       "25%      1957.000000                   NaN              NaN      NaN   \n",
       "50%      1988.000000                   NaN              NaN      NaN   \n",
       "75%      2007.000000                   NaN              NaN      NaN   \n",
       "max      2017.000000                   NaN              NaN      NaN   \n",
       "\n",
       "                 Cast    Genre  \\\n",
       "count           33464    34886   \n",
       "unique          32182     2265   \n",
       "top     Tom and Jerry  unknown   \n",
       "freq               80     6083   \n",
       "mean              NaN      NaN   \n",
       "std               NaN      NaN   \n",
       "min               NaN      NaN   \n",
       "25%               NaN      NaN   \n",
       "50%               NaN      NaN   \n",
       "75%               NaN      NaN   \n",
       "max               NaN      NaN   \n",
       "\n",
       "                                                Wiki Page  \\\n",
       "count                                               34886   \n",
       "unique                                              34070   \n",
       "top     https://en.wikipedia.org/wiki/Himitsu_Sentai_G...   \n",
       "freq                                                    5   \n",
       "mean                                                  NaN   \n",
       "std                                                   NaN   \n",
       "min                                                   NaN   \n",
       "25%                                                   NaN   \n",
       "50%                                                   NaN   \n",
       "75%                                                   NaN   \n",
       "max                                                   NaN   \n",
       "\n",
       "                                                     Plot  \n",
       "count                                               34886  \n",
       "unique                                              33869  \n",
       "top     (マッスル人参争奪！超人大戦争, Massuru Ninjin Soudatsu! Chou...  \n",
       "freq                                                    6  \n",
       "mean                                                  NaN  \n",
       "std                                                   NaN  \n",
       "min                                                   NaN  \n",
       "25%                                                   NaN  \n",
       "50%                                                   NaN  \n",
       "75%                                                   NaN  \n",
       "max                                                   NaN  "
      ]
     },
     "execution_count": 40,
     "metadata": {},
     "output_type": "execute_result"
    }
   ],
   "source": [
    "# Generate descriptive statistics for all the columns and summarize the dataset with metrics like mean, standard deviation, etc.\n",
    "movies_df.describe(include='all')"
   ]
  },
  {
   "cell_type": "code",
   "execution_count": 41,
   "id": "3ebcc826",
   "metadata": {},
   "outputs": [
    {
     "data": {
      "text/plain": [
       "Index(['Release Year', 'Title', 'Origin/Ethnicity', 'Director', 'Cast',\n",
       "       'Genre', 'Wiki Page', 'Plot'],\n",
       "      dtype='object')"
      ]
     },
     "execution_count": 41,
     "metadata": {},
     "output_type": "execute_result"
    }
   ],
   "source": [
    "# Lists all the columns names of the dataset\n",
    "movies_df.columns"
   ]
  },
  {
   "cell_type": "code",
   "execution_count": 42,
   "id": "d8799890",
   "metadata": {},
   "outputs": [
    {
     "name": "stdout",
     "output_type": "stream",
     "text": [
      "34886\n"
     ]
    }
   ],
   "source": [
    "# Count the number of occurrences of each unique value in the \"Genre\" column.\n",
    "movies_df['Genre'].value_counts()\n",
    "print(len(movies_df))"
   ]
  },
  {
   "cell_type": "code",
   "execution_count": 43,
   "id": "2ceb2e59",
   "metadata": {},
   "outputs": [
    {
     "name": "stdout",
     "output_type": "stream",
     "text": [
      "34886\n"
     ]
    }
   ],
   "source": [
    "# Check for duplicate rows\n",
    "movies_df.duplicated().sum()  \n",
    "\n",
    "# Remove duplicates\n",
    "movies_df = movies_df.drop_duplicates()  \n",
    "print(len(movies_df))"
   ]
  },
  {
   "cell_type": "markdown",
   "id": "903f9473",
   "metadata": {},
   "source": [
    "### Exploratory Data Analysis"
   ]
  },
  {
   "cell_type": "code",
   "execution_count": 44,
   "id": "582b819e",
   "metadata": {},
   "outputs": [
    {
     "data": {
      "image/png": "[encoded data removed]",
      "text/plain": [
       "<Figure size 640x480 with 1 Axes>"
      ]
     },
     "metadata": {},
     "output_type": "display_data"
    }
   ],
   "source": [
    "import matplotlib.pyplot as plt\n",
    "import seaborn as sns\n",
    "\n",
    "# Countplot for Genre\n",
    "sns.countplot(y='Genre', data=movies_df, order=movies_df['Genre'].value_counts().index[:10])\n",
    "plt.title('Top 10 Genres')\n",
    "plt.show()"
   ]
  },
  {
   "cell_type": "code",
   "execution_count": 45,
   "id": "3713bf4b",
   "metadata": {},
   "outputs": [
    {
     "name": "stdout",
     "output_type": "stream",
     "text": [
      "{'Release Year': 117, 'Title': 32432, 'Origin/Ethnicity': 24, 'Director': 12593, 'Cast': 32182, 'Genre': 2265, 'Wiki Page': 34070, 'Plot': 33869}\n"
     ]
    }
   ],
   "source": [
    "# Creating a dictionary of unique values and store it, to understand the variablity of data in each of the columns\n",
    "unique_values = {}\n",
    "for col in movies_df.columns:\n",
    "    unique_values[col] = movies_df[col].nunique()\n",
    "\n",
    "print(unique_values)"
   ]
  },
  {
   "cell_type": "code",
   "execution_count": 46,
   "id": "da3dda49",
   "metadata": {},
   "outputs": [
    {
     "data": {
      "image/png": "[encoded data removed]",
      "text/plain": [
       "<Figure size 640x480 with 1 Axes>"
      ]
     },
     "metadata": {},
     "output_type": "display_data"
    }
   ],
   "source": [
    "# Generate the histogram for all the numeric values and add title to each plot to specify colummn name\n",
    "for col in movies_df.select_dtypes(include=['number']).columns:\n",
    "    movies_df[col].hist()\n",
    "    plt.title(f'Distribution of {col}')\n",
    "    plt.xlabel(col)\n",
    "    plt.ylabel('Frequency')\n",
    "    plt.show()"
   ]
  },
  {
   "cell_type": "code",
   "execution_count": 47,
   "id": "1ef67093",
   "metadata": {},
   "outputs": [],
   "source": [
    "import os\n",
    "\n",
    "# create folder if it doesn't exist\n",
    "os.makedirs(\"Images\", exist_ok=True)"
   ]
  },
  {
   "cell_type": "code",
   "execution_count": 48,
   "id": "4902259e",
   "metadata": {},
   "outputs": [
    {
     "name": "stdout",
     "output_type": "stream",
     "text": [
      "Histogram saved as 'freqofreleaseyear.png' in './Images' directory.\n"
     ]
    },
    {
     "data": {
      "image/png": "[encoded data removed]",
      "text/plain": [
       "<Figure size 640x480 with 1 Axes>"
      ]
     },
     "metadata": {},
     "output_type": "display_data"
    }
   ],
   "source": [
    "# Plot the histogram\n",
    "sns.histplot(data=movies_df, x='Release Year')\n",
    "\n",
    "# Add the updated title and labels\n",
    "plt.title('Distribution of Movie Release Years')\n",
    "plt.xlabel('Year of Release')\n",
    "plt.ylabel('Number of Movies Released')\n",
    "\n",
    "# Save the figure\n",
    "plt.savefig('./Images/freqofreleaseyear.png')\n",
    "\n",
    "# Display message when the file is saved\n",
    "print(\"Histogram saved as 'freqofreleaseyear.png' in './Images' directory.\")\n",
    "\n",
    "# Show the plot\n",
    "plt.show()"
   ]
  },
  {
   "cell_type": "code",
   "execution_count": 49,
   "id": "02f61220",
   "metadata": {},
   "outputs": [
    {
     "data": {
      "image/png": "[encoded data removed]",
      "text/plain": [
       "<Figure size 1200x800 with 1 Axes>"
      ]
     },
     "metadata": {},
     "output_type": "display_data"
    }
   ],
   "source": [
    "# Create the plot with specified figure size\n",
    "fig, ax = plt.subplots(figsize=(12,8))\n",
    "\n",
    "# Plotting the count distribution for Origin/Ethnicity\n",
    "sns.countplot(x=movies_df['Origin/Ethnicity'])\n",
    "\n",
    "# Adjust plot layout to prevent overlap\n",
    "plt.gcf().subplots_adjust(bottom=0.2)\n",
    "\n",
    "# Rotate x-axis labels for better readability\n",
    "plt.xticks(rotation=90)\n",
    "\n",
    "# Add the updated title and axis labels\n",
    "plt.title('Movie Origins and Ethnicity Distribution')\n",
    "plt.xlabel('Origin / Ethnicity of Movies')\n",
    "plt.ylabel('Number of Movies')\n",
    "\n",
    "# Save the figure to a specified location\n",
    "fig.savefig('./Images/FreqDistOrigin.png')\n",
    "\n",
    "# Show the plot\n",
    "plt.show()"
   ]
  },
  {
   "cell_type": "code",
   "execution_count": 50,
   "id": "7ed5f8d4",
   "metadata": {},
   "outputs": [],
   "source": [
    "# Filtering out the rows where \"Genre\" is marked unknown\n",
    "movies_df = movies_df.loc[movies_df['Genre']!='unknown']"
   ]
  },
  {
   "cell_type": "code",
   "execution_count": 51,
   "id": "603470d7",
   "metadata": {},
   "outputs": [],
   "source": [
    "# Resets the index after filtering the dataset\n",
    "movies_df.reset_index(drop = True, inplace = True)"
   ]
  },
  {
   "cell_type": "code",
   "execution_count": 52,
   "id": "9a278468",
   "metadata": {},
   "outputs": [
    {
     "name": "stdout",
     "output_type": "stream",
     "text": [
      "There are 2264 different Genres in the dataset:\n",
      "--------------------------------------------------\n",
      "Genre\n",
      "drama                                                 5964\n",
      "comedy                                                4379\n",
      "horror                                                1167\n",
      "action                                                1098\n",
      "thriller                                               966\n",
      "                                                      ... \n",
      "action / historical                                      1\n",
      "fantasy, drama, children's, sci-fi, adventure, spy       1\n",
      "drama, action, military, spy                             1\n",
      "drama, kaiju, mecha, space opera, sci-fi, action         1\n",
      "historical, drama, comedy-drama, romance, youth          1\n",
      "Name: count, Length: 2264, dtype: int64\n"
     ]
    },
    {
     "name": "stderr",
     "output_type": "stream",
     "text": [
      "C:\\Users\\HARSHIT SHARMA\\AppData\\Local\\Temp\\ipykernel_5868\\2071642345.py:2: FutureWarning: pandas.value_counts is deprecated and will be removed in a future version. Use pd.Series(obj).value_counts() instead.\n",
      "  genres=pd.value_counts(movies_df.Genre)\n"
     ]
    }
   ],
   "source": [
    "# Counts the occurences of each genre\n",
    "genres=pd.value_counts(movies_df.Genre)\n",
    "\n",
    "#Print the unique genres\n",
    "print('There are',len(genres), 'different Genres in the dataset:')\n",
    "print('-'*50)\n",
    "print(genres)"
   ]
  },
  {
   "cell_type": "code",
   "execution_count": 53,
   "id": "650a07ac",
   "metadata": {},
   "outputs": [
    {
     "data": {
      "text/html": [
       "<div>\n",
       "<style scoped>\n",
       "    .dataframe tbody tr th:only-of-type {\n",
       "        vertical-align: middle;\n",
       "    }\n",
       "\n",
       "    .dataframe tbody tr th {\n",
       "        vertical-align: top;\n",
       "    }\n",
       "\n",
       "    .dataframe thead th {\n",
       "        text-align: right;\n",
       "    }\n",
       "</style>\n",
       "<table border=\"1\" class=\"dataframe\">\n",
       "  <thead>\n",
       "    <tr style=\"text-align: right;\">\n",
       "      <th></th>\n",
       "      <th>genres</th>\n",
       "      <th>number_of_movies</th>\n",
       "    </tr>\n",
       "  </thead>\n",
       "  <tbody>\n",
       "    <tr>\n",
       "      <th>0</th>\n",
       "      <td>drama</td>\n",
       "      <td>5964</td>\n",
       "    </tr>\n",
       "    <tr>\n",
       "      <th>1</th>\n",
       "      <td>comedy</td>\n",
       "      <td>4379</td>\n",
       "    </tr>\n",
       "    <tr>\n",
       "      <th>2</th>\n",
       "      <td>horror</td>\n",
       "      <td>1167</td>\n",
       "    </tr>\n",
       "    <tr>\n",
       "      <th>3</th>\n",
       "      <td>action</td>\n",
       "      <td>1098</td>\n",
       "    </tr>\n",
       "    <tr>\n",
       "      <th>4</th>\n",
       "      <td>thriller</td>\n",
       "      <td>966</td>\n",
       "    </tr>\n",
       "    <tr>\n",
       "      <th>5</th>\n",
       "      <td>romance</td>\n",
       "      <td>923</td>\n",
       "    </tr>\n",
       "  </tbody>\n",
       "</table>\n",
       "</div>"
      ],
      "text/plain": [
       "     genres  number_of_movies\n",
       "0     drama              5964\n",
       "1    comedy              4379\n",
       "2    horror              1167\n",
       "3    action              1098\n",
       "4  thriller               966\n",
       "5   romance               923"
      ]
     },
     "execution_count": 53,
     "metadata": {},
     "output_type": "execute_result"
    }
   ],
   "source": [
    "# Selects th etop 6 genres with the highest occurence\n",
    "top_genres = pd.DataFrame(genres[:6]).reset_index()\n",
    "\n",
    "# Create a new DataFrame with columns genres and number_of_movies\n",
    "top_genres.columns = ['genres', 'number_of_movies']\n",
    "top_genres"
   ]
  },
  {
   "cell_type": "code",
   "execution_count": 54,
   "id": "f91d2b76",
   "metadata": {},
   "outputs": [
    {
     "data": {
      "image/png": "[encoded data removed]",
      "text/plain": [
       "<Figure size 1400x800 with 1 Axes>"
      ]
     },
     "metadata": {},
     "output_type": "display_data"
    }
   ],
   "source": [
    "# Create a bar plot of the top genres using seaborn\n",
    "fig, ax = plt.subplots(figsize=(14,8))\n",
    "\n",
    "sns.barplot(x='genres', y='number_of_movies', data=top_genres, ax=ax)\n",
    "plt.title('Top 6 genres and their frequency')\n",
    "plt.xlabel('genres')\n",
    "plt.ylabel('frequency')\n",
    "fig.savefig('./Images/freqoftopgenres.png')"
   ]
  },
  {
   "cell_type": "code",
   "execution_count": 55,
   "id": "832f19bf",
   "metadata": {},
   "outputs": [],
   "source": [
    "# A dictionary for genre labels\n",
    "genre_labels = {\n",
    "    'drama': 1,\n",
    "    'comedy': 2,\n",
    "    'horror': 3,\n",
    "    'action': 4,\n",
    "    'thriller': 5,\n",
    "    'romance': 6\n",
    "}\n",
    "\n",
    "# Create a mapping dictionary, genre_labels, to assign numerical values to genres\n",
    "movies_df['labels'] = movies_df['Genre'].map(genre_labels).fillna(0).astype(int)"
   ]
  },
  {
   "cell_type": "code",
   "execution_count": 56,
   "id": "1936d6d5",
   "metadata": {},
   "outputs": [
    {
     "data": {
      "text/html": [
       "<div>\n",
       "<style scoped>\n",
       "    .dataframe tbody tr th:only-of-type {\n",
       "        vertical-align: middle;\n",
       "    }\n",
       "\n",
       "    .dataframe tbody tr th {\n",
       "        vertical-align: top;\n",
       "    }\n",
       "\n",
       "    .dataframe thead th {\n",
       "        text-align: right;\n",
       "    }\n",
       "</style>\n",
       "<table border=\"1\" class=\"dataframe\">\n",
       "  <thead>\n",
       "    <tr style=\"text-align: right;\">\n",
       "      <th></th>\n",
       "      <th>Release Year</th>\n",
       "      <th>Title</th>\n",
       "      <th>Origin/Ethnicity</th>\n",
       "      <th>Director</th>\n",
       "      <th>Cast</th>\n",
       "      <th>Genre</th>\n",
       "      <th>Wiki Page</th>\n",
       "      <th>Plot</th>\n",
       "      <th>labels</th>\n",
       "    </tr>\n",
       "  </thead>\n",
       "  <tbody>\n",
       "    <tr>\n",
       "      <th>80</th>\n",
       "      <td>1915</td>\n",
       "      <td>Birth of a Nation</td>\n",
       "      <td>American</td>\n",
       "      <td>D. W. Griffith</td>\n",
       "      <td>Lillian Gish, Mae Marsh</td>\n",
       "      <td>epic</td>\n",
       "      <td>https://en.wikipedia.org/wiki/Birth_of_a_Nation</td>\n",
       "      <td>The film follows two juxtaposed families. One ...</td>\n",
       "      <td>0</td>\n",
       "    </tr>\n",
       "    <tr>\n",
       "      <th>2434</th>\n",
       "      <td>1939</td>\n",
       "      <td>Ambush</td>\n",
       "      <td>American</td>\n",
       "      <td>Kurt Neumann</td>\n",
       "      <td>Lloyd Nolan, Gladys Swarthout</td>\n",
       "      <td>crime</td>\n",
       "      <td>https://en.wikipedia.org/wiki/Ambush_(1939_film)</td>\n",
       "      <td>Charlie Hartman is part of a gang bossed by a ...</td>\n",
       "      <td>0</td>\n",
       "    </tr>\n",
       "    <tr>\n",
       "      <th>8455</th>\n",
       "      <td>1970</td>\n",
       "      <td>Joe</td>\n",
       "      <td>American</td>\n",
       "      <td>John G. Avildsen</td>\n",
       "      <td>Peter Boyle, Susan Sarandon</td>\n",
       "      <td>drama</td>\n",
       "      <td>https://en.wikipedia.org/wiki/Joe_(1970_film)</td>\n",
       "      <td>Advertising executive Bill Compton, his wife J...</td>\n",
       "      <td>1</td>\n",
       "    </tr>\n",
       "  </tbody>\n",
       "</table>\n",
       "</div>"
      ],
      "text/plain": [
       "      Release Year              Title Origin/Ethnicity          Director  \\\n",
       "80            1915  Birth of a Nation         American    D. W. Griffith   \n",
       "2434          1939             Ambush         American      Kurt Neumann   \n",
       "8455          1970                Joe         American  John G. Avildsen   \n",
       "\n",
       "                               Cast  Genre  \\\n",
       "80          Lillian Gish, Mae Marsh   epic   \n",
       "2434  Lloyd Nolan, Gladys Swarthout  crime   \n",
       "8455    Peter Boyle, Susan Sarandon  drama   \n",
       "\n",
       "                                             Wiki Page  \\\n",
       "80     https://en.wikipedia.org/wiki/Birth_of_a_Nation   \n",
       "2434  https://en.wikipedia.org/wiki/Ambush_(1939_film)   \n",
       "8455     https://en.wikipedia.org/wiki/Joe_(1970_film)   \n",
       "\n",
       "                                                   Plot  labels  \n",
       "80    The film follows two juxtaposed families. One ...       0  \n",
       "2434  Charlie Hartman is part of a gang bossed by a ...       0  \n",
       "8455  Advertising executive Bill Compton, his wife J...       1  "
      ]
     },
     "execution_count": 56,
     "metadata": {},
     "output_type": "execute_result"
    }
   ],
   "source": [
    "# Displays the 3 random rows from the dataset\n",
    "movies_df.sample(3)"
   ]
  },
  {
   "cell_type": "code",
   "execution_count": 57,
   "id": "f04d2c16",
   "metadata": {},
   "outputs": [
    {
     "data": {
      "text/plain": [
       "labels\n",
       "0    14306\n",
       "1     5964\n",
       "2     4379\n",
       "3     1167\n",
       "4     1098\n",
       "5      966\n",
       "6      923\n",
       "Name: count, dtype: int64"
      ]
     },
     "execution_count": 57,
     "metadata": {},
     "output_type": "execute_result"
    }
   ],
   "source": [
    "# Count occurrences of each unique value in the labels column (derived from genre_labels)\n",
    "movies_df['labels'].value_counts()"
   ]
  },
  {
   "cell_type": "code",
   "execution_count": 58,
   "id": "42645c6a",
   "metadata": {},
   "outputs": [],
   "source": [
    "# Filter out rows where labels is 0 and reset the index after filtering\n",
    "df = movies_df.query('labels != 0').reset_index(drop=True)"
   ]
  },
  {
   "cell_type": "code",
   "execution_count": 59,
   "id": "023ea49b",
   "metadata": {},
   "outputs": [
    {
     "data": {
      "text/html": [
       "<div>\n",
       "<style scoped>\n",
       "    .dataframe tbody tr th:only-of-type {\n",
       "        vertical-align: middle;\n",
       "    }\n",
       "\n",
       "    .dataframe tbody tr th {\n",
       "        vertical-align: top;\n",
       "    }\n",
       "\n",
       "    .dataframe thead th {\n",
       "        text-align: right;\n",
       "    }\n",
       "</style>\n",
       "<table border=\"1\" class=\"dataframe\">\n",
       "  <thead>\n",
       "    <tr style=\"text-align: right;\">\n",
       "      <th></th>\n",
       "      <th>Release Year</th>\n",
       "      <th>Title</th>\n",
       "      <th>Origin/Ethnicity</th>\n",
       "      <th>Director</th>\n",
       "      <th>Cast</th>\n",
       "      <th>Genre</th>\n",
       "      <th>Wiki Page</th>\n",
       "      <th>Plot</th>\n",
       "      <th>labels</th>\n",
       "    </tr>\n",
       "  </thead>\n",
       "  <tbody>\n",
       "    <tr>\n",
       "      <th>0</th>\n",
       "      <td>1904</td>\n",
       "      <td>The Suburbanite</td>\n",
       "      <td>American</td>\n",
       "      <td>Wallace McCutcheon</td>\n",
       "      <td>NaN</td>\n",
       "      <td>comedy</td>\n",
       "      <td>https://en.wikipedia.org/wiki/The_Suburbanite</td>\n",
       "      <td>The film is about a family who move to the sub...</td>\n",
       "      <td>2</td>\n",
       "    </tr>\n",
       "    <tr>\n",
       "      <th>1</th>\n",
       "      <td>1907</td>\n",
       "      <td>How Brown Saw the Baseball Game</td>\n",
       "      <td>American</td>\n",
       "      <td>Unknown</td>\n",
       "      <td>Unknown</td>\n",
       "      <td>comedy</td>\n",
       "      <td>https://en.wikipedia.org/wiki/How_Brown_Saw_th...</td>\n",
       "      <td>Before heading out to a baseball game at a nea...</td>\n",
       "      <td>2</td>\n",
       "    </tr>\n",
       "    <tr>\n",
       "      <th>2</th>\n",
       "      <td>1907</td>\n",
       "      <td>Laughing Gas</td>\n",
       "      <td>American</td>\n",
       "      <td>Edwin Stanton Porter</td>\n",
       "      <td>Bertha Regustus, Edward Boulden</td>\n",
       "      <td>comedy</td>\n",
       "      <td>https://en.wikipedia.org/wiki/Laughing_Gas_(fi...</td>\n",
       "      <td>The plot is that of a black woman going to the...</td>\n",
       "      <td>2</td>\n",
       "    </tr>\n",
       "    <tr>\n",
       "      <th>3</th>\n",
       "      <td>1908</td>\n",
       "      <td>The Adventures of Dollie</td>\n",
       "      <td>American</td>\n",
       "      <td>D. W. Griffith</td>\n",
       "      <td>Arthur V. Johnson, Linda Arvidson</td>\n",
       "      <td>drama</td>\n",
       "      <td>https://en.wikipedia.org/wiki/The_Adventures_o...</td>\n",
       "      <td>On a beautiful summer day a father and mother ...</td>\n",
       "      <td>1</td>\n",
       "    </tr>\n",
       "    <tr>\n",
       "      <th>4</th>\n",
       "      <td>1908</td>\n",
       "      <td>The Black Viper</td>\n",
       "      <td>American</td>\n",
       "      <td>D. W. Griffith</td>\n",
       "      <td>D. W. Griffith</td>\n",
       "      <td>drama</td>\n",
       "      <td>https://en.wikipedia.org/wiki/The_Black_Viper</td>\n",
       "      <td>A thug accosts a girl as she leaves her workpl...</td>\n",
       "      <td>1</td>\n",
       "    </tr>\n",
       "  </tbody>\n",
       "</table>\n",
       "</div>"
      ],
      "text/plain": [
       "   Release Year                            Title Origin/Ethnicity  \\\n",
       "0          1904                  The Suburbanite         American   \n",
       "1          1907  How Brown Saw the Baseball Game         American   \n",
       "2          1907                     Laughing Gas         American   \n",
       "3          1908         The Adventures of Dollie         American   \n",
       "4          1908                  The Black Viper         American   \n",
       "\n",
       "               Director                               Cast   Genre  \\\n",
       "0    Wallace McCutcheon                                NaN  comedy   \n",
       "1               Unknown                            Unknown  comedy   \n",
       "2  Edwin Stanton Porter    Bertha Regustus, Edward Boulden  comedy   \n",
       "3        D. W. Griffith  Arthur V. Johnson, Linda Arvidson   drama   \n",
       "4        D. W. Griffith                     D. W. Griffith   drama   \n",
       "\n",
       "                                           Wiki Page  \\\n",
       "0      https://en.wikipedia.org/wiki/The_Suburbanite   \n",
       "1  https://en.wikipedia.org/wiki/How_Brown_Saw_th...   \n",
       "2  https://en.wikipedia.org/wiki/Laughing_Gas_(fi...   \n",
       "3  https://en.wikipedia.org/wiki/The_Adventures_o...   \n",
       "4      https://en.wikipedia.org/wiki/The_Black_Viper   \n",
       "\n",
       "                                                Plot  labels  \n",
       "0  The film is about a family who move to the sub...       2  \n",
       "1  Before heading out to a baseball game at a nea...       2  \n",
       "2  The plot is that of a black woman going to the...       2  \n",
       "3  On a beautiful summer day a father and mother ...       1  \n",
       "4  A thug accosts a girl as she leaves her workpl...       1  "
      ]
     },
     "execution_count": 59,
     "metadata": {},
     "output_type": "execute_result"
    }
   ],
   "source": [
    "# Displays the first 5 rows of the dataset\n",
    "df.head()"
   ]
  },
  {
   "cell_type": "code",
   "execution_count": 60,
   "id": "70583cbc",
   "metadata": {},
   "outputs": [
    {
     "data": {
      "image/png": "[encoded data removed]",
      "text/plain": [
       "<Figure size 1000x600 with 1 Axes>"
      ]
     },
     "metadata": {},
     "output_type": "display_data"
    }
   ],
   "source": [
    "# Group the data by Release Year & Genre to count occurences\n",
    "fig, ax = plt.subplots(figsize=(10,6))\n",
    "\n",
    "sns.histplot(x = 'Release Year', hue = 'Genre', data = df, multiple = 'stack')\n",
    "plt.title('Frequency of Release Years Showing Genres')\n",
    "plt.xlabel('Release Year')\n",
    "plt.ylabel('Frequency of Occurence')\n",
    "\n",
    "# Save the image\n",
    "fig.savefig('./images/freqofreleaseyearandgenres.png');"
   ]
  },
  {
   "cell_type": "code",
   "execution_count": 61,
   "id": "46def222",
   "metadata": {},
   "outputs": [
    {
     "data": {
      "text/html": [
       "<div>\n",
       "<style scoped>\n",
       "    .dataframe tbody tr th:only-of-type {\n",
       "        vertical-align: middle;\n",
       "    }\n",
       "\n",
       "    .dataframe tbody tr th {\n",
       "        vertical-align: top;\n",
       "    }\n",
       "\n",
       "    .dataframe thead th {\n",
       "        text-align: right;\n",
       "    }\n",
       "</style>\n",
       "<table border=\"1\" class=\"dataframe\">\n",
       "  <thead>\n",
       "    <tr style=\"text-align: right;\">\n",
       "      <th></th>\n",
       "      <th>genres</th>\n",
       "      <th>labels</th>\n",
       "      <th>number_of_movies</th>\n",
       "    </tr>\n",
       "  </thead>\n",
       "  <tbody>\n",
       "    <tr>\n",
       "      <th>0</th>\n",
       "      <td>drama</td>\n",
       "      <td>1</td>\n",
       "      <td>5964</td>\n",
       "    </tr>\n",
       "    <tr>\n",
       "      <th>1</th>\n",
       "      <td>comedy</td>\n",
       "      <td>2</td>\n",
       "      <td>4379</td>\n",
       "    </tr>\n",
       "    <tr>\n",
       "      <th>2</th>\n",
       "      <td>horror</td>\n",
       "      <td>3</td>\n",
       "      <td>1167</td>\n",
       "    </tr>\n",
       "    <tr>\n",
       "      <th>3</th>\n",
       "      <td>action</td>\n",
       "      <td>4</td>\n",
       "      <td>1098</td>\n",
       "    </tr>\n",
       "    <tr>\n",
       "      <th>4</th>\n",
       "      <td>thriller</td>\n",
       "      <td>5</td>\n",
       "      <td>966</td>\n",
       "    </tr>\n",
       "    <tr>\n",
       "      <th>5</th>\n",
       "      <td>romance</td>\n",
       "      <td>6</td>\n",
       "      <td>923</td>\n",
       "    </tr>\n",
       "  </tbody>\n",
       "</table>\n",
       "</div>"
      ],
      "text/plain": [
       "     genres  labels  number_of_movies\n",
       "0     drama       1              5964\n",
       "1    comedy       2              4379\n",
       "2    horror       3              1167\n",
       "3    action       4              1098\n",
       "4  thriller       5               966\n",
       "5   romance       6               923"
      ]
     },
     "execution_count": 61,
     "metadata": {},
     "output_type": "execute_result"
    }
   ],
   "source": [
    "# Create an empty list to store the genre labels\n",
    "assigned_label = []\n",
    "\n",
    "# Loop over unique genres and labels and add them to the list\n",
    "for genre, label in zip(df['Genre'].unique(), df['labels'].unique()):\n",
    "    assigned_label.append([genre, label])\n",
    "\n",
    "# Convert the list to a DataFrame\n",
    "assigned_label_df = pd.DataFrame(assigned_label, columns=['genres', 'labels'])\n",
    "\n",
    "# Sort the DataFrame by 'labels' using a for loop\n",
    "assigned_label_df = assigned_label_df.iloc[sorted(range(len(assigned_label_df)), key=lambda x: assigned_label_df.iloc[x]['labels'])]\n",
    "\n",
    "# Merge with 'top_genres' using a for loop to find matching genres\n",
    "result = []\n",
    "for _, row in assigned_label_df.iterrows():\n",
    "    for _, top_row in top_genres.iterrows():\n",
    "        if row['genres'] == top_row['genres']:\n",
    "            result.append({**row.to_dict(), **top_row.to_dict()})\n",
    "\n",
    "# Convert the result list back into a DataFrame\n",
    "result_df = pd.DataFrame(result)\n",
    "result_df"
   ]
  },
  {
   "cell_type": "code",
   "execution_count": 62,
   "id": "b58a0a7a",
   "metadata": {},
   "outputs": [],
   "source": [
    "# Removes the unnecessary columns from the DataFrame.\n",
    "df.drop(columns = ['Release Year', 'Origin/Ethnicity', 'Director', 'Cast', 'Wiki Page'], axis = 1, inplace = True)"
   ]
  },
  {
   "cell_type": "code",
   "execution_count": 63,
   "id": "002d273e",
   "metadata": {},
   "outputs": [
    {
     "data": {
      "text/html": [
       "<div>\n",
       "<style scoped>\n",
       "    .dataframe tbody tr th:only-of-type {\n",
       "        vertical-align: middle;\n",
       "    }\n",
       "\n",
       "    .dataframe tbody tr th {\n",
       "        vertical-align: top;\n",
       "    }\n",
       "\n",
       "    .dataframe thead th {\n",
       "        text-align: right;\n",
       "    }\n",
       "</style>\n",
       "<table border=\"1\" class=\"dataframe\">\n",
       "  <thead>\n",
       "    <tr style=\"text-align: right;\">\n",
       "      <th></th>\n",
       "      <th>Title</th>\n",
       "      <th>Genre</th>\n",
       "      <th>Plot</th>\n",
       "      <th>labels</th>\n",
       "    </tr>\n",
       "  </thead>\n",
       "  <tbody>\n",
       "    <tr>\n",
       "      <th>0</th>\n",
       "      <td>The Suburbanite</td>\n",
       "      <td>comedy</td>\n",
       "      <td>The film is about a family who move to the sub...</td>\n",
       "      <td>2</td>\n",
       "    </tr>\n",
       "    <tr>\n",
       "      <th>1</th>\n",
       "      <td>How Brown Saw the Baseball Game</td>\n",
       "      <td>comedy</td>\n",
       "      <td>Before heading out to a baseball game at a nea...</td>\n",
       "      <td>2</td>\n",
       "    </tr>\n",
       "  </tbody>\n",
       "</table>\n",
       "</div>"
      ],
      "text/plain": [
       "                             Title   Genre  \\\n",
       "0                  The Suburbanite  comedy   \n",
       "1  How Brown Saw the Baseball Game  comedy   \n",
       "\n",
       "                                                Plot  labels  \n",
       "0  The film is about a family who move to the sub...       2  \n",
       "1  Before heading out to a baseball game at a nea...       2  "
      ]
     },
     "execution_count": 63,
     "metadata": {},
     "output_type": "execute_result"
    }
   ],
   "source": [
    "# Displays the first 2 rows of the modified DataFrame\n",
    "df.head(2)"
   ]
  },
  {
   "cell_type": "code",
   "execution_count": 64,
   "id": "940b397d",
   "metadata": {},
   "outputs": [
    {
     "data": {
      "text/plain": [
       "\"A young couple decides to elope after being caught in the midst of a romantic moment by the woman's angry father. They make plans to leave, but a thief discovers their plans and hides in their trunk and waits for the right moment to steal their belongings.\""
      ]
     },
     "execution_count": 64,
     "metadata": {},
     "output_type": "execute_result"
    }
   ],
   "source": [
    "# To access the plot description of the 5th row of the dataset\n",
    "df['Plot'][5]"
   ]
  },
  {
   "cell_type": "code",
   "execution_count": 65,
   "id": "73cafc72",
   "metadata": {},
   "outputs": [],
   "source": [
    "# The function counts the total number of words in the dataset\n",
    "def count_words(text_data):\n",
    "    total_words = 0\n",
    "    index = 0\n",
    "    while index < len(text_data):\n",
    "        sentence = text_data.iloc[index]\n",
    "        word_list = sentence.split(' ')\n",
    "        total_words += len(word_list)\n",
    "        index += 1\n",
    "    return total_words\n",
    "\n",
    "word_count = count_words(df['Plot'])"
   ]
  },
  {
   "cell_type": "code",
   "execution_count": 66,
   "id": "5a44189b",
   "metadata": {},
   "outputs": [],
   "source": [
    "# The function counts the total number of unique words in the dataset\n",
    "def count_unique_words(text_data):\n",
    "    unique_words = set()\n",
    "    index = 0\n",
    "    while index < len(text_data):\n",
    "        sentence = text_data.iloc[index]\n",
    "        words = sentence.split(' ')\n",
    "        for word in words:\n",
    "            unique_words.add(word)\n",
    "        index += 1\n",
    "    return len(unique_words)\n",
    "\n",
    "unique_word_count = count_unique_words(df['Plot'])"
   ]
  },
  {
   "cell_type": "markdown",
   "id": "2cad49d2",
   "metadata": {},
   "source": [
    "### Using the Regex Pattern for text cleaning and creating the stopwords list."
   ]
  },
  {
   "cell_type": "code",
   "execution_count": 67,
   "id": "14846652",
   "metadata": {},
   "outputs": [],
   "source": [
    "import re\n",
    "import string\n",
    "from nltk.tokenize import word_tokenize\n",
    "from spacy.lang.en.stop_words import STOP_WORDS\n",
    "from nltk.stem import WordNetLemmatizer\n",
    "\n",
    "# Set of regex patterns for common text cleaning tasks\n",
    "patterns = {\n",
    "    \"whats\": re.compile(r\"what's\"),\n",
    "    \"apos_s\": re.compile(r\"\\'s\"),\n",
    "    \"apos_ve\": re.compile(r\"\\'ve\"),\n",
    "    \"cant\": re.compile(r\"can't\"),\n",
    "    \"nt\": re.compile(r\"n't\"),\n",
    "    \"apos_re\": re.compile(r\"\\'re\"),\n",
    "    \"apos_d\": re.compile(r\"\\'d\"),\n",
    "    \"apos_ll\": re.compile(r\"\\'ll\"),\n",
    "    \"apos_scuse\": re.compile(r\"\\'scuse\"),\n",
    "    \"non_word\": re.compile(r'\\W'),\n",
    "    \"extra_space\": re.compile(r'\\s+'),\n",
    "    \"digits\": re.compile(r'\\d+'),\n",
    "}\n",
    "\n",
    "# Creates a set of words and symbols to ignore during text processing\n",
    "stopwords_list = set(STOP_WORDS)\n",
    "stopwords_list.update(string.punctuation, ['one', 'two', 'go', 'goes', 'get', 'also', 'however', 'tells'])\n",
    "\n",
    "#Initializing a lemmatizer to convert words into their base form\n",
    "lemmatizer = WordNetLemmatizer()\n",
    "\n",
    "# Fucntion to clean the text\n",
    "def clean_text(text):\n",
    "    text = text.lower()\n",
    "    text = patterns[\"whats\"].sub(\"what is \", text)\n",
    "    text = patterns[\"apos_s\"].sub(\" \", text)\n",
    "    text = patterns[\"apos_ve\"].sub(\" have \", text)\n",
    "    text = patterns[\"cant\"].sub(\"can not \", text)\n",
    "    text = patterns[\"nt\"].sub(\" not \", text)\n",
    "    text = patterns[\"apos_re\"].sub(\" are \", text)\n",
    "    text = patterns[\"apos_d\"].sub(\" would \", text)\n",
    "    text = patterns[\"apos_ll\"].sub(\" will \", text)\n",
    "    text = patterns[\"apos_scuse\"].sub(\" excuse \", text)\n",
    "    text = patterns[\"non_word\"].sub(\" \", text)\n",
    "    text = patterns[\"extra_space\"].sub(\" \", text)\n",
    "    text = patterns[\"digits\"].sub(\" \", text)\n",
    "    text = text.strip()\n",
    "\n",
    "    tokens = word_tokenize(text)\n",
    "    filtered_tokens = [lemmatizer.lemmatize(token) for token in tokens if token not in stopwords_list]\n",
    "    return \" \".join(filtered_tokens)\n",
    "\n",
    "# Function for batch processing\n",
    "def process_in_batches(df, column, func, batch_size=100):\n",
    "    results = []\n",
    "    for start in range(0, len(df), batch_size):\n",
    "        end = start + batch_size\n",
    "        batch = df[column][start:end].map(func)\n",
    "        results.extend(batch)\n",
    "    return results"
   ]
  },
  {
   "cell_type": "code",
   "execution_count": 69,
   "id": "0704cfae",
   "metadata": {},
   "outputs": [
    {
     "name": "stderr",
     "output_type": "stream",
     "text": [
      "[nltk_data] Downloading package punkt to C:\\Users\\HARSHIT\n",
      "[nltk_data]     SHARMA\\AppData\\Roaming\\nltk_data...\n",
      "[nltk_data]   Package punkt is already up-to-date!\n",
      "[nltk_data] Downloading package stopwords to C:\\Users\\HARSHIT\n",
      "[nltk_data]     SHARMA\\AppData\\Roaming\\nltk_data...\n",
      "[nltk_data]   Package stopwords is already up-to-date!\n",
      "[nltk_data] Downloading package wordnet to C:\\Users\\HARSHIT\n",
      "[nltk_data]     SHARMA\\AppData\\Roaming\\nltk_data...\n",
      "[nltk_data]   Package wordnet is already up-to-date!\n",
      "[nltk_data] Downloading package omw-1.4 to C:\\Users\\HARSHIT\n",
      "[nltk_data]     SHARMA\\AppData\\Roaming\\nltk_data...\n",
      "[nltk_data]   Package omw-1.4 is already up-to-date!\n"
     ]
    },
    {
     "data": {
      "text/plain": [
       "True"
      ]
     },
     "execution_count": 69,
     "metadata": {},
     "output_type": "execute_result"
    }
   ],
   "source": [
    "import nltk\n",
    "\n",
    "# download common datasets used for NLP\n",
    "nltk.download('punkt')        # for word_tokenize\n",
    "nltk.download('stopwords')    # for stopwords\n",
    "nltk.download('wordnet')      # for lemmatization\n",
    "nltk.download('omw-1.4')      # for WordNet languages\n"
   ]
  },
  {
   "cell_type": "code",
   "execution_count": 71,
   "id": "99aefed7",
   "metadata": {},
   "outputs": [
    {
     "name": "stdout",
     "output_type": "stream",
     "text": [
      "a young couple decides to elope after being caught in the midst of a romantic moment by the womans angry father they make plans to leave but a thief discovers their plans and hides in their trunk and waits for the right moment to steal their belongings\n"
     ]
    }
   ],
   "source": [
    "# # Creates a deep copy of the filtered DataFrame (df) for safe modification\n",
    "# new_df = df.copy(deep=True)\n",
    "\n",
    "# #Process the Plot column in batches using process_in_batches and clean_text\n",
    "# new_df['Plot'] = process_in_batches(new_df, 'Plot', clean_text, batch_size=100)\n",
    "\n",
    "# print(new_df['Plot'][5])\n",
    "import re\n",
    "\n",
    "def clean_text_python(text):\n",
    "    \"\"\"\n",
    "    Basic text cleaning without NLTK or SpaCy:\n",
    "    - Lowercase\n",
    "    - Remove punctuation and numbers\n",
    "    - Remove extra spaces\n",
    "    \"\"\"\n",
    "    text = str(text).lower()                          # lowercase\n",
    "    text = re.sub(r'[^a-z\\s]', '', text)             # keep only letters and spaces\n",
    "    text = re.sub(r'\\s+', ' ', text).strip()         # remove extra spaces\n",
    "    return text\n",
    "def process_in_batches(df, column, func, batch_size=100):\n",
    "    \"\"\"\n",
    "    Apply a cleaning function to a DataFrame column in batches.\n",
    "    \"\"\"\n",
    "    for start in range(0, len(df), batch_size):\n",
    "        end = start + batch_size\n",
    "        df.loc[start:end-1, column] = df.loc[start:end-1, column].apply(func)\n",
    "    return df[column]\n",
    "\n",
    "# Make a deep copy\n",
    "new_df = df.copy(deep=True)\n",
    "\n",
    "# Clean the 'Plot' column without NLTK or SpaCy\n",
    "new_df['Plot'] = process_in_batches(new_df, 'Plot', clean_text_python, batch_size=100)\n",
    "\n",
    "# Example output\n",
    "print(new_df['Plot'][5])\n"
   ]
  },
  {
   "cell_type": "code",
   "execution_count": 72,
   "id": "71fdce7e",
   "metadata": {},
   "outputs": [],
   "source": [
    "# Counts the total words in the cleaned Plot column using the previously defined count_words function\n",
    "clean_word_count = count_words(new_df['Plot'])"
   ]
  },
  {
   "cell_type": "code",
   "execution_count": 73,
   "id": "d19371a3",
   "metadata": {},
   "outputs": [],
   "source": [
    "# Counts the unique words in the cleaned Plot column using the count_unique_words function\n",
    "clean_unique_word_count = count_unique_words(new_df['Plot'])"
   ]
  },
  {
   "cell_type": "code",
   "execution_count": 74,
   "id": "40624074",
   "metadata": {},
   "outputs": [
    {
     "data": {
      "image/png": "[encoded data removed]",
      "text/plain": [
       "<Figure size 1000x700 with 1 Axes>"
      ]
     },
     "metadata": {},
     "output_type": "display_data"
    }
   ],
   "source": [
    "# Creates a list, plot_length, to compare raw vs cleaned text\n",
    "plot_length = [[word_count, clean_word_count], [unique_word_count, clean_unique_word_count]]\n",
    "\n",
    "# Converts the list into a DataFrame, length_df\n",
    "length_df = pd.DataFrame(plot_length, columns = ['num_of_words', 'num_of_unique_words'])\n",
    "length_df['index'] = ['raw_plot', 'cleaned_plot']\n",
    "\n",
    "y1 = length_df['num_of_words']\n",
    "y2 = length_df['num_of_unique_words']\n",
    "\n",
    "plt.figure(figsize=(10,7))\n",
    "ind = np.arange(2)\n",
    "\n",
    "width = 0.3       \n",
    "\n",
    "# Plotting\n",
    "plt.bar(ind, y1, width, label='raw_plot')\n",
    "plt.bar(ind + width, y2, width, label='cleaned_plot')\n",
    "\n",
    "plt.xlabel('plot', size = 13)\n",
    "plt.ylabel('word_length', size = 13)\n",
    "plt.suptitle('Comparison of total and unique number of words before and after processing', size = 20)\n",
    "plt.xticks(ind + width / 2, ('words', 'unique_words'))\n",
    "plt.legend(loc='best')\n",
    "plt.show()\n",
    "\n",
    "# Save the plot as an image\n",
    "fig.savefig('./Images/totalvsuniquewords.png')"
   ]
  },
  {
   "cell_type": "code",
   "execution_count": 75,
   "id": "0c60321a",
   "metadata": {},
   "outputs": [
    {
     "data": {
      "text/html": [
       "<div>\n",
       "<style scoped>\n",
       "    .dataframe tbody tr th:only-of-type {\n",
       "        vertical-align: middle;\n",
       "    }\n",
       "\n",
       "    .dataframe tbody tr th {\n",
       "        vertical-align: top;\n",
       "    }\n",
       "\n",
       "    .dataframe thead th {\n",
       "        text-align: right;\n",
       "    }\n",
       "</style>\n",
       "<table border=\"1\" class=\"dataframe\">\n",
       "  <thead>\n",
       "    <tr style=\"text-align: right;\">\n",
       "      <th></th>\n",
       "      <th>num_of_words</th>\n",
       "      <th>num_of_unique_words</th>\n",
       "      <th>index</th>\n",
       "    </tr>\n",
       "  </thead>\n",
       "  <tbody>\n",
       "    <tr>\n",
       "      <th>0</th>\n",
       "      <td>5240143</td>\n",
       "      <td>5267087</td>\n",
       "      <td>raw_plot</td>\n",
       "    </tr>\n",
       "    <tr>\n",
       "      <th>1</th>\n",
       "      <td>253147</td>\n",
       "      <td>101744</td>\n",
       "      <td>cleaned_plot</td>\n",
       "    </tr>\n",
       "  </tbody>\n",
       "</table>\n",
       "</div>"
      ],
      "text/plain": [
       "   num_of_words  num_of_unique_words         index\n",
       "0       5240143              5267087      raw_plot\n",
       "1        253147               101744  cleaned_plot"
      ]
     },
     "execution_count": 75,
     "metadata": {},
     "output_type": "execute_result"
    }
   ],
   "source": [
    "# Displays the DataFrame by summarizing the word counts for raw vs cleaned plots\n",
    "length_df"
   ]
  },
  {
   "cell_type": "code",
   "execution_count": 76,
   "id": "e91bfcc5",
   "metadata": {},
   "outputs": [],
   "source": [
    "# Saving Cleaned Dataframe to a CSV file\n",
    "new_df.to_csv('cleaned_movie_plots.csv', index=False)"
   ]
  }
 ],
 "metadata": {
  "kernelspec": {
   "display_name": "Python 3",
   "language": "python",
   "name": "python3"
  },
  "language_info": {
   "codemirror_mode": {
    "name": "ipython",
    "version": 3
   },
   "file_extension": ".py",
   "mimetype": "text/x-python",
   "name": "python",
   "nbconvert_exporter": "python",
   "pygments_lexer": "ipython3",
   "version": "3.12.4"
  }
 },
 "nbformat": 4,
 "nbformat_minor": 5
}
